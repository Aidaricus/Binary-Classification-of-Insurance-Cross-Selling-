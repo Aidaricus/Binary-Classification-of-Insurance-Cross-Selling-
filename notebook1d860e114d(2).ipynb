{
 "cells": [
  {
   "cell_type": "markdown",
   "id": "8dff58d4",
   "metadata": {
    "papermill": {
     "duration": 0.008137,
     "end_time": "2024-12-17T14:18:04.087002",
     "exception": false,
     "start_time": "2024-12-17T14:18:04.078865",
     "status": "completed"
    },
    "tags": []
   },
   "source": [
    "### Подключим необходимые библиотеки"
   ]
  },
  {
   "cell_type": "code",
   "execution_count": 1,
   "id": "deee30f0",
   "metadata": {
    "_cell_guid": "b1076dfc-b9ad-4769-8c92-a6c4dae69d19",
    "_uuid": "8f2839f25d086af736a60e9eeb907d3b93b6e0e5",
    "execution": {
     "iopub.execute_input": "2024-12-17T14:18:04.104437Z",
     "iopub.status.busy": "2024-12-17T14:18:04.104032Z",
     "iopub.status.idle": "2024-12-17T14:18:10.268250Z",
     "shell.execute_reply": "2024-12-17T14:18:10.267066Z"
    },
    "papermill": {
     "duration": 6.173856,
     "end_time": "2024-12-17T14:18:10.270242",
     "exception": false,
     "start_time": "2024-12-17T14:18:04.096386",
     "status": "completed"
    },
    "tags": []
   },
   "outputs": [],
   "source": [
    "import numpy as np\n",
    "import pandas as pd \n",
    "import seaborn as sns\n",
    "import matplotlib.pyplot as plt\n",
    "import optuna\n",
    "\n",
    "from sklearn.preprocessing import StandardScaler\n",
    "from sklearn.preprocessing import OneHotEncoder\n",
    "from sklearn.model_selection import train_test_split\n",
    "from sklearn.linear_model import LogisticRegression\n",
    "from sklearn.metrics import roc_auc_score\n",
    "from xgboost import XGBClassifier\n",
    "from lightgbm import LGBMClassifier\n",
    "from catboost import CatBoostClassifier\n",
    "\n",
    "from sklearn.ensemble import RandomForestClassifier\n",
    "from sklearn.svm import SVC\n",
    "from sklearn.neural_network import MLPClassifier\n",
    "from sklearn.naive_bayes import GaussianNB"
   ]
  },
  {
   "cell_type": "markdown",
   "id": "5a266d36",
   "metadata": {
    "papermill": {
     "duration": 0.005667,
     "end_time": "2024-12-17T14:18:10.282543",
     "exception": false,
     "start_time": "2024-12-17T14:18:10.276876",
     "status": "completed"
    },
    "tags": []
   },
   "source": [
    "### Импорт и первичная предобработка данных"
   ]
  },
  {
   "cell_type": "code",
   "execution_count": 2,
   "id": "0443f1d2",
   "metadata": {
    "execution": {
     "iopub.execute_input": "2024-12-17T14:18:10.295838Z",
     "iopub.status.busy": "2024-12-17T14:18:10.295328Z",
     "iopub.status.idle": "2024-12-17T14:18:26.059042Z",
     "shell.execute_reply": "2024-12-17T14:18:26.057529Z"
    },
    "papermill": {
     "duration": 15.772724,
     "end_time": "2024-12-17T14:18:26.061203",
     "exception": false,
     "start_time": "2024-12-17T14:18:10.288479",
     "status": "completed"
    },
    "tags": []
   },
   "outputs": [],
   "source": [
    "train = pd.read_csv('/kaggle/input/playground-series-s4e7/train.csv', index_col=\"id\")"
   ]
  },
  {
   "cell_type": "code",
   "execution_count": 3,
   "id": "8962181c",
   "metadata": {
    "execution": {
     "iopub.execute_input": "2024-12-17T14:18:26.078825Z",
     "iopub.status.busy": "2024-12-17T14:18:26.078296Z",
     "iopub.status.idle": "2024-12-17T14:18:36.142105Z",
     "shell.execute_reply": "2024-12-17T14:18:36.140863Z"
    },
    "papermill": {
     "duration": 10.074698,
     "end_time": "2024-12-17T14:18:36.144388",
     "exception": false,
     "start_time": "2024-12-17T14:18:26.069690",
     "status": "completed"
    },
    "tags": []
   },
   "outputs": [],
   "source": [
    "X_test = pd.read_csv('/kaggle/input/playground-series-s4e7/test.csv', index_col=\"id\")"
   ]
  },
  {
   "cell_type": "code",
   "execution_count": 4,
   "id": "e046919d",
   "metadata": {
    "execution": {
     "iopub.execute_input": "2024-12-17T14:18:36.159083Z",
     "iopub.status.busy": "2024-12-17T14:18:36.158514Z",
     "iopub.status.idle": "2024-12-17T14:18:36.450044Z",
     "shell.execute_reply": "2024-12-17T14:18:36.449023Z"
    },
    "papermill": {
     "duration": 0.300596,
     "end_time": "2024-12-17T14:18:36.451405",
     "exception": true,
     "start_time": "2024-12-17T14:18:36.150809",
     "status": "failed"
    },
    "tags": []
   },
   "outputs": [
    {
     "ename": "NameError",
     "evalue": "name 'test' is not defined",
     "output_type": "error",
     "traceback": [
      "\u001b[0;31m---------------------------------------------------------------------------\u001b[0m",
      "\u001b[0;31mNameError\u001b[0m                                 Traceback (most recent call last)",
      "Cell \u001b[0;32mIn[4], line 1\u001b[0m\n\u001b[0;32m----> 1\u001b[0m test_ids \u001b[38;5;241m=\u001b[39m \u001b[43mtest\u001b[49m\u001b[38;5;241m.\u001b[39mindex\n\u001b[1;32m      2\u001b[0m test_ids\n\u001b[1;32m      4\u001b[0m y \u001b[38;5;241m=\u001b[39m train[\u001b[38;5;124m'\u001b[39m\u001b[38;5;124mResponse\u001b[39m\u001b[38;5;124m'\u001b[39m]\n",
      "\u001b[0;31mNameError\u001b[0m: name 'test' is not defined"
     ]
    }
   ],
   "source": [
    "test_ids = test.index\n",
    "test_ids\n",
    "\n",
    "y = train['Response']\n",
    "X = train.drop([\"Response\"], axis=1)"
   ]
  },
  {
   "cell_type": "code",
   "execution_count": null,
   "id": "acb91bbb",
   "metadata": {
    "execution": {
     "iopub.execute_input": "2024-12-17T07:40:36.966073Z",
     "iopub.status.busy": "2024-12-17T07:40:36.965676Z",
     "iopub.status.idle": "2024-12-17T07:40:36.977706Z",
     "shell.execute_reply": "2024-12-17T07:40:36.976441Z",
     "shell.execute_reply.started": "2024-12-17T07:40:36.966034Z"
    },
    "papermill": {
     "duration": null,
     "end_time": null,
     "exception": null,
     "start_time": null,
     "status": "pending"
    },
    "tags": []
   },
   "outputs": [],
   "source": [
    "X.info()"
   ]
  },
  {
   "cell_type": "code",
   "execution_count": null,
   "id": "b760001c",
   "metadata": {
    "execution": {
     "iopub.execute_input": "2024-12-17T07:40:53.222004Z",
     "iopub.status.busy": "2024-12-17T07:40:53.221587Z",
     "iopub.status.idle": "2024-12-17T07:40:53.228721Z",
     "shell.execute_reply": "2024-12-17T07:40:53.227607Z",
     "shell.execute_reply.started": "2024-12-17T07:40:53.221969Z"
    },
    "papermill": {
     "duration": null,
     "end_time": null,
     "exception": null,
     "start_time": null,
     "status": "pending"
    },
    "tags": []
   },
   "outputs": [],
   "source": [
    "def detect_outliers_iqr(data, column):\n",
    "    \"\"\"\n",
    "    Определение выбросов в числовых данных с использованием метода IQR.\n",
    "\n",
    "    :param data: DataFrame\n",
    "    :param column: Название столбца для анализа\n",
    "    :return: DataFrame с выбросами\n",
    "    \"\"\"\n",
    "    Q1 = data[column].quantile(0.25)  # Первый квартиль\n",
    "    Q3 = data[column].quantile(0.75)  # Третий квартиль\n",
    "    IQR = Q3 - Q1                     # Межквартильный размах\n",
    "    \n",
    "    lower_bound = Q1 - 1.5 * IQR      # Нижняя граница\n",
    "    upper_bound = Q3 + 1.5 * IQR      # Верхняя граница\n",
    "    \n",
    "    # Выбросы — это значения за пределами [lower_bound, upper_bound]\n",
    "    outliers = data[(data[column] < lower_bound) | (data[column] > upper_bound)]\n",
    "    \n",
    "    return outliers"
   ]
  },
  {
   "cell_type": "code",
   "execution_count": null,
   "id": "b515e72a",
   "metadata": {
    "execution": {
     "iopub.execute_input": "2024-12-17T07:42:03.844789Z",
     "iopub.status.busy": "2024-12-17T07:42:03.844407Z",
     "iopub.status.idle": "2024-12-17T07:42:06.381633Z",
     "shell.execute_reply": "2024-12-17T07:42:06.380192Z",
     "shell.execute_reply.started": "2024-12-17T07:42:03.844743Z"
    },
    "papermill": {
     "duration": null,
     "end_time": null,
     "exception": null,
     "start_time": null,
     "status": "pending"
    },
    "tags": []
   },
   "outputs": [],
   "source": [
    "# Список числовых столбцов для анализа выбросов\n",
    "numeric_columns = ['Age', 'Region_Code', 'Annual_Premium', 'Policy_Sales_Channel', 'Vintage']\n",
    "\n",
    "# Анализ выбросов для каждого числового столбца\n",
    "for column in numeric_columns:\n",
    "    print(f\"--- Анализ выбросов для столбца: {column} ---\")\n",
    "    outliers = detect_outliers_iqr(X, column)\n",
    "    print(f\"Количество выбросов в {column}: {len(outliers)}\")\n",
    "    print(outliers.head())  # Печать первых нескольких выбросов\n",
    "    print(\"\\n\")"
   ]
  },
  {
   "cell_type": "code",
   "execution_count": null,
   "id": "e97dcc6c",
   "metadata": {
    "execution": {
     "iopub.execute_input": "2024-12-17T07:42:06.384008Z",
     "iopub.status.busy": "2024-12-17T07:42:06.383550Z",
     "iopub.status.idle": "2024-12-17T07:42:16.267201Z",
     "shell.execute_reply": "2024-12-17T07:42:16.265909Z",
     "shell.execute_reply.started": "2024-12-17T07:42:06.383958Z"
    },
    "papermill": {
     "duration": null,
     "end_time": null,
     "exception": null,
     "start_time": null,
     "status": "pending"
    },
    "tags": []
   },
   "outputs": [],
   "source": [
    "sns.boxplot(data = X['Annual_Premium'], orient = 'h', palette = 'Set2', dodge = False)"
   ]
  },
  {
   "cell_type": "code",
   "execution_count": null,
   "id": "618b1fa0",
   "metadata": {
    "execution": {
     "iopub.execute_input": "2024-12-17T07:42:16.269728Z",
     "iopub.status.busy": "2024-12-17T07:42:16.269260Z",
     "iopub.status.idle": "2024-12-17T07:42:16.678901Z",
     "shell.execute_reply": "2024-12-17T07:42:16.677722Z",
     "shell.execute_reply.started": "2024-12-17T07:42:16.269668Z"
    },
    "papermill": {
     "duration": null,
     "end_time": null,
     "exception": null,
     "start_time": null,
     "status": "pending"
    },
    "tags": []
   },
   "outputs": [],
   "source": [
    "columns_to_scale = ['Annual_Premium']\n",
    "\n",
    "scaler = StandardScaler()\n",
    "scaler.fit(X[columns_to_scale])\n",
    "\n",
    "X[columns_to_scale] = scaler.transform(X[columns_to_scale])\n",
    "#X_valid[columns_to_scale] = scaler.transform(X_valid[columns_to_scale])\n",
    "X_test[columns_to_scale] = scaler.transform(X_test[columns_to_scale])\n",
    "\n"
   ]
  },
  {
   "cell_type": "markdown",
   "id": "9b1782f8",
   "metadata": {
    "papermill": {
     "duration": null,
     "end_time": null,
     "exception": null,
     "start_time": null,
     "status": "pending"
    },
    "tags": []
   },
   "source": [
    "### Попробуем создать новые категориальные фичи и закодировать их\n",
    "\n",
    "\n"
   ]
  },
  {
   "cell_type": "code",
   "execution_count": null,
   "id": "11963b89",
   "metadata": {
    "execution": {
     "iopub.execute_input": "2024-12-17T07:42:20.709181Z",
     "iopub.status.busy": "2024-12-17T07:42:20.708781Z",
     "iopub.status.idle": "2024-12-17T07:42:23.502325Z",
     "shell.execute_reply": "2024-12-17T07:42:23.501167Z",
     "shell.execute_reply.started": "2024-12-17T07:42:20.709146Z"
    },
    "papermill": {
     "duration": null,
     "end_time": null,
     "exception": null,
     "start_time": null,
     "status": "pending"
    },
    "tags": []
   },
   "outputs": [],
   "source": [
    "for column in X.columns:\n",
    "    print(f\"{column} has {len(X[column].unique())} unique values\")"
   ]
  },
  {
   "cell_type": "code",
   "execution_count": null,
   "id": "43631151",
   "metadata": {
    "execution": {
     "iopub.execute_input": "2024-12-17T07:48:43.017044Z",
     "iopub.status.busy": "2024-12-17T07:48:43.016611Z",
     "iopub.status.idle": "2024-12-17T07:48:43.022295Z",
     "shell.execute_reply": "2024-12-17T07:48:43.021079Z",
     "shell.execute_reply.started": "2024-12-17T07:48:43.017006Z"
    },
    "papermill": {
     "duration": null,
     "end_time": null,
     "exception": null,
     "start_time": null,
     "status": "pending"
    },
    "tags": []
   },
   "outputs": [],
   "source": [
    "cat_features = ['Vehicle_Age']"
   ]
  },
  {
   "cell_type": "code",
   "execution_count": null,
   "id": "f3194185",
   "metadata": {
    "execution": {
     "iopub.execute_input": "2024-12-17T07:45:00.215733Z",
     "iopub.status.busy": "2024-12-17T07:45:00.215221Z",
     "iopub.status.idle": "2024-12-17T07:45:01.207948Z",
     "shell.execute_reply": "2024-12-17T07:45:01.206721Z",
     "shell.execute_reply.started": "2024-12-17T07:45:00.215684Z"
    },
    "papermill": {
     "duration": null,
     "end_time": null,
     "exception": null,
     "start_time": null,
     "status": "pending"
    },
    "tags": []
   },
   "outputs": [],
   "source": [
    "X['Gender'] = (X['Gender'] == 'Male')"
   ]
  },
  {
   "cell_type": "code",
   "execution_count": null,
   "id": "baaa6b8c",
   "metadata": {
    "execution": {
     "iopub.execute_input": "2024-12-17T07:48:15.614597Z",
     "iopub.status.busy": "2024-12-17T07:48:15.614188Z",
     "iopub.status.idle": "2024-12-17T07:48:16.569692Z",
     "shell.execute_reply": "2024-12-17T07:48:16.568491Z",
     "shell.execute_reply.started": "2024-12-17T07:48:15.614561Z"
    },
    "papermill": {
     "duration": null,
     "end_time": null,
     "exception": null,
     "start_time": null,
     "status": "pending"
    },
    "tags": []
   },
   "outputs": [],
   "source": [
    "X[\"Vehicle_Damage\"] = (X[\"Vehicle_Damage\"] == \"Yes\")"
   ]
  },
  {
   "cell_type": "code",
   "execution_count": null,
   "id": "373d3295",
   "metadata": {
    "execution": {
     "iopub.execute_input": "2024-12-17T07:48:45.400522Z",
     "iopub.status.busy": "2024-12-17T07:48:45.400111Z",
     "iopub.status.idle": "2024-12-17T07:48:50.987607Z",
     "shell.execute_reply": "2024-12-17T07:48:50.986341Z",
     "shell.execute_reply.started": "2024-12-17T07:48:45.400484Z"
    },
    "papermill": {
     "duration": null,
     "end_time": null,
     "exception": null,
     "start_time": null,
     "status": "pending"
    },
    "tags": []
   },
   "outputs": [],
   "source": [
    "onehot = OneHotEncoder(sparse_output=False)\n",
    "\n",
    "train_onehot_cols = onehot.fit_transform(X[cat_features])\n",
    "test_onehot_cols = onehot.transform(X_test[cat_features])\n",
    "\n",
    "train_onehot_cols = pd.DataFrame(train_onehot_cols, columns=onehot.get_feature_names_out(cat_features))\n",
    "test_onehot_cols = pd.DataFrame(test_onehot_cols, columns=onehot.get_feature_names_out(cat_features))\n",
    "\n",
    "train_onehot_cols.index = X.index\n",
    "test_onehot_cols.index = X_test.index"
   ]
  },
  {
   "cell_type": "code",
   "execution_count": null,
   "id": "419edb77",
   "metadata": {
    "execution": {
     "iopub.execute_input": "2024-12-17T07:48:50.989964Z",
     "iopub.status.busy": "2024-12-17T07:48:50.989574Z",
     "iopub.status.idle": "2024-12-17T07:48:53.248615Z",
     "shell.execute_reply": "2024-12-17T07:48:53.247468Z",
     "shell.execute_reply.started": "2024-12-17T07:48:50.989916Z"
    },
    "papermill": {
     "duration": null,
     "end_time": null,
     "exception": null,
     "start_time": null,
     "status": "pending"
    },
    "tags": []
   },
   "outputs": [],
   "source": [
    "numerical_features = X.columns.drop(cat_features)\n",
    "X = pd.concat([X[numerical_features], train_onehot_cols], axis=1)\n",
    "X_test = pd.concat([X_test[numerical_features], test_onehot_cols], axis=1)"
   ]
  },
  {
   "cell_type": "code",
   "execution_count": null,
   "id": "d32cdd99",
   "metadata": {
    "execution": {
     "iopub.execute_input": "2024-12-17T07:48:53.250673Z",
     "iopub.status.busy": "2024-12-17T07:48:53.250347Z",
     "iopub.status.idle": "2024-12-17T07:48:53.393306Z",
     "shell.execute_reply": "2024-12-17T07:48:53.392195Z",
     "shell.execute_reply.started": "2024-12-17T07:48:53.250640Z"
    },
    "papermill": {
     "duration": null,
     "end_time": null,
     "exception": null,
     "start_time": null,
     "status": "pending"
    },
    "tags": []
   },
   "outputs": [],
   "source": [
    "X['premium_per_age'] = X['Annual_Premium'] / X['Age']\n",
    "X_test['premium_per_age'] = X_test['Annual_Premium'] / X_test['Age']"
   ]
  },
  {
   "cell_type": "markdown",
   "id": "8dae4d7e",
   "metadata": {
    "papermill": {
     "duration": null,
     "end_time": null,
     "exception": null,
     "start_time": null,
     "status": "pending"
    },
    "tags": []
   },
   "source": [
    "### Визуализация данных"
   ]
  },
  {
   "cell_type": "code",
   "execution_count": null,
   "id": "0f4f0418",
   "metadata": {
    "execution": {
     "iopub.status.busy": "2024-12-17T07:34:11.679608Z",
     "iopub.status.idle": "2024-12-17T07:34:11.680084Z",
     "shell.execute_reply": "2024-12-17T07:34:11.679908Z",
     "shell.execute_reply.started": "2024-12-17T07:34:11.679864Z"
    },
    "papermill": {
     "duration": null,
     "end_time": null,
     "exception": null,
     "start_time": null,
     "status": "pending"
    },
    "tags": []
   },
   "outputs": [],
   "source": [
    "# Корреляционная матрица\n",
    "plt.figure(figsize=(10, 8))\n",
    "sns.heatmap(X.corr(), annot=True, cmap='coolwarm')\n",
    "plt.title('Корреляционная матрица')\n",
    "plt.show()\n",
    "\n",
    "# Распределение целевой переменной\n",
    "plt.figure(figsize=(10, 6))\n",
    "sns.histplot(y, bins=30)\n",
    "plt.title('Распределение целевой переменной')\n",
    "plt.show()"
   ]
  },
  {
   "cell_type": "markdown",
   "id": "e08d89d6",
   "metadata": {
    "papermill": {
     "duration": null,
     "end_time": null,
     "exception": null,
     "start_time": null,
     "status": "pending"
    },
    "tags": []
   },
   "source": [
    "Напишем функцию которая будет делать нам csv файл для ответа в соревновании"
   ]
  },
  {
   "cell_type": "code",
   "execution_count": null,
   "id": "e10a7b61",
   "metadata": {
    "execution": {
     "iopub.execute_input": "2024-12-17T13:29:53.260523Z",
     "iopub.status.busy": "2024-12-17T13:29:53.259850Z",
     "iopub.status.idle": "2024-12-17T13:29:53.270319Z",
     "shell.execute_reply": "2024-12-17T13:29:53.267985Z",
     "shell.execute_reply.started": "2024-12-17T13:29:53.260471Z"
    },
    "papermill": {
     "duration": null,
     "end_time": null,
     "exception": null,
     "start_time": null,
     "status": "pending"
    },
    "tags": []
   },
   "outputs": [],
   "source": [
    "import zipfile\n",
    "import os\n",
    "\n",
    "\n",
    "def make_csv_answer(name, data):\n",
    "    answer = pd.DataFrame(\n",
    "    {\n",
    "        \"id\" : test_ids,\n",
    "        \"Response\" : data,\n",
    "    },\n",
    "    columns=[\"id\", \"Response\"]\n",
    "    )\n",
    "    answer.to_csv(f\"{name}.csv\", index=False)\n",
    "\n",
    "    with zipfile.ZipFile(f'{name}.zip', 'w') as zf:\n",
    "        zf.write(f'{name}.csv')\n",
    "    os.remove(f'{name}.csv')"
   ]
  },
  {
   "cell_type": "markdown",
   "id": "e4253f7f",
   "metadata": {
    "papermill": {
     "duration": null,
     "end_time": null,
     "exception": null,
     "start_time": null,
     "status": "pending"
    },
    "tags": []
   },
   "source": [
    "### **BaseLine**"
   ]
  },
  {
   "cell_type": "code",
   "execution_count": null,
   "id": "cb108a28",
   "metadata": {
    "execution": {
     "iopub.execute_input": "2024-12-17T08:06:13.458976Z",
     "iopub.status.busy": "2024-12-17T08:06:13.456657Z",
     "iopub.status.idle": "2024-12-17T08:06:16.788452Z",
     "shell.execute_reply": "2024-12-17T08:06:16.787219Z",
     "shell.execute_reply.started": "2024-12-17T08:06:13.458920Z"
    },
    "papermill": {
     "duration": null,
     "end_time": null,
     "exception": null,
     "start_time": null,
     "status": "pending"
    },
    "tags": []
   },
   "outputs": [],
   "source": [
    "X = X.rename(columns = {'Vehicle_Age_< 1 Year': 'Vehicle_Age_less 1 Year',\n",
    "                       'Vehicle_Age_> 2 Years': 'Vehicle_Age_more 2 Years'})\n",
    "X_test = X_test.rename(columns = {'Vehicle_Age_< 1 Year': 'Vehicle_Age_less 1 Year',\n",
    "                       'Vehicle_Age_> 2 Years': 'Vehicle_Age_more 2 Years'})"
   ]
  },
  {
   "cell_type": "code",
   "execution_count": null,
   "id": "920a1d3c",
   "metadata": {
    "execution": {
     "iopub.execute_input": "2024-12-17T08:06:18.464976Z",
     "iopub.status.busy": "2024-12-17T08:06:18.464086Z",
     "iopub.status.idle": "2024-12-17T08:06:26.716464Z",
     "shell.execute_reply": "2024-12-17T08:06:26.715260Z",
     "shell.execute_reply.started": "2024-12-17T08:06:18.464935Z"
    },
    "papermill": {
     "duration": null,
     "end_time": null,
     "exception": null,
     "start_time": null,
     "status": "pending"
    },
    "tags": []
   },
   "outputs": [],
   "source": [
    "X_train, X_val, y_train, y_val = train_test_split(X, y, test_size=0.2, stratify=y, random_state=42)"
   ]
  },
  {
   "cell_type": "code",
   "execution_count": null,
   "id": "8724cdbd",
   "metadata": {
    "execution": {
     "iopub.execute_input": "2024-12-17T08:06:26.718596Z",
     "iopub.status.busy": "2024-12-17T08:06:26.718255Z",
     "iopub.status.idle": "2024-12-17T08:06:26.740117Z",
     "shell.execute_reply": "2024-12-17T08:06:26.739092Z",
     "shell.execute_reply.started": "2024-12-17T08:06:26.718561Z"
    },
    "papermill": {
     "duration": null,
     "end_time": null,
     "exception": null,
     "start_time": null,
     "status": "pending"
    },
    "tags": []
   },
   "outputs": [],
   "source": [
    "X_train.info()"
   ]
  },
  {
   "cell_type": "code",
   "execution_count": null,
   "id": "7432005b",
   "metadata": {
    "execution": {
     "iopub.execute_input": "2024-12-17T08:06:26.742419Z",
     "iopub.status.busy": "2024-12-17T08:06:26.741856Z",
     "iopub.status.idle": "2024-12-17T08:10:16.757771Z",
     "shell.execute_reply": "2024-12-17T08:10:16.756312Z",
     "shell.execute_reply.started": "2024-12-17T08:06:26.742322Z"
    },
    "papermill": {
     "duration": null,
     "end_time": null,
     "exception": null,
     "start_time": null,
     "status": "pending"
    },
    "tags": []
   },
   "outputs": [],
   "source": [
    "xgb = XGBClassifier(n_estimators=500, random_state=42)\n",
    "\n",
    "xgb.fit(X_train, y_train)"
   ]
  },
  {
   "cell_type": "code",
   "execution_count": null,
   "id": "bd0cacf6",
   "metadata": {
    "execution": {
     "iopub.execute_input": "2024-12-17T08:13:52.372242Z",
     "iopub.status.busy": "2024-12-17T08:13:52.371404Z",
     "iopub.status.idle": "2024-12-17T08:14:07.817317Z",
     "shell.execute_reply": "2024-12-17T08:14:07.815983Z",
     "shell.execute_reply.started": "2024-12-17T08:13:52.372161Z"
    },
    "papermill": {
     "duration": null,
     "end_time": null,
     "exception": null,
     "start_time": null,
     "status": "pending"
    },
    "tags": []
   },
   "outputs": [],
   "source": [
    "y_pred = xgb.predict_proba(X_val)[:, 1]\n",
    "\n",
    "print(f\"ROC_AUC на валидационной выборке: {roc_auc_score(y_val, y_pred)}\")"
   ]
  },
  {
   "cell_type": "code",
   "execution_count": null,
   "id": "365d6f0c",
   "metadata": {
    "execution": {
     "iopub.execute_input": "2024-12-16T11:54:25.787991Z",
     "iopub.status.busy": "2024-12-16T11:54:25.787525Z",
     "iopub.status.idle": "2024-12-16T11:55:17.886270Z",
     "shell.execute_reply": "2024-12-16T11:55:17.885207Z",
     "shell.execute_reply.started": "2024-12-16T11:54:25.787952Z"
    },
    "papermill": {
     "duration": null,
     "end_time": null,
     "exception": null,
     "start_time": null,
     "status": "pending"
    },
    "tags": []
   },
   "outputs": [],
   "source": [
    "y_pred = xgb.predict_proba(X_test)[:, 1]\n",
    "\n",
    "make_csv_answer(\"xgboost\", y_pred)"
   ]
  },
  {
   "cell_type": "code",
   "execution_count": null,
   "id": "daeab446",
   "metadata": {
    "execution": {
     "iopub.execute_input": "2024-12-16T11:59:49.800526Z",
     "iopub.status.busy": "2024-12-16T11:59:49.800090Z",
     "iopub.status.idle": "2024-12-16T11:59:50.426980Z",
     "shell.execute_reply": "2024-12-16T11:59:50.425557Z",
     "shell.execute_reply.started": "2024-12-16T11:59:49.800493Z"
    },
    "papermill": {
     "duration": null,
     "end_time": null,
     "exception": null,
     "start_time": null,
     "status": "pending"
    },
    "tags": []
   },
   "outputs": [],
   "source": [
    "import zipfile\n",
    "import os\n",
    "\n",
    "with zipfile.ZipFile('xgboost.zip', 'w') as zf:\n",
    "    zf.write('xgboost.csv')\n",
    "os.remove('xgboost.csv')"
   ]
  },
  {
   "cell_type": "markdown",
   "id": "0feac51b",
   "metadata": {
    "papermill": {
     "duration": null,
     "end_time": null,
     "exception": null,
     "start_time": null,
     "status": "pending"
    },
    "tags": []
   },
   "source": [
    "## Усиление "
   ]
  },
  {
   "cell_type": "markdown",
   "id": "539cbd40",
   "metadata": {
    "papermill": {
     "duration": null,
     "end_time": null,
     "exception": null,
     "start_time": null,
     "status": "pending"
    },
    "tags": []
   },
   "source": [
    "### Попробуем сгнерировать новые признаки"
   ]
  },
  {
   "cell_type": "code",
   "execution_count": null,
   "id": "549292ca",
   "metadata": {
    "execution": {
     "iopub.execute_input": "2024-12-17T08:14:24.759440Z",
     "iopub.status.busy": "2024-12-17T08:14:24.758977Z",
     "iopub.status.idle": "2024-12-17T08:14:24.773114Z",
     "shell.execute_reply": "2024-12-17T08:14:24.771619Z",
     "shell.execute_reply.started": "2024-12-17T08:14:24.759404Z"
    },
    "papermill": {
     "duration": null,
     "end_time": null,
     "exception": null,
     "start_time": null,
     "status": "pending"
    },
    "tags": []
   },
   "outputs": [],
   "source": [
    "X.info()"
   ]
  },
  {
   "cell_type": "code",
   "execution_count": null,
   "id": "75dd8999",
   "metadata": {
    "execution": {
     "iopub.execute_input": "2024-12-17T09:49:23.830627Z",
     "iopub.status.busy": "2024-12-17T09:49:23.830179Z",
     "iopub.status.idle": "2024-12-17T09:49:35.634005Z",
     "shell.execute_reply": "2024-12-17T09:49:35.632306Z",
     "shell.execute_reply.started": "2024-12-17T09:49:23.830592Z"
    },
    "papermill": {
     "duration": null,
     "end_time": null,
     "exception": null,
     "start_time": null,
     "status": "pending"
    },
    "tags": []
   },
   "outputs": [],
   "source": [
    "# 1. Age_Group: Категоризация возраста клиента\n",
    "def categorize_age(age):\n",
    "    if age < 25:\n",
    "        return \"Young\"\n",
    "    elif age <= 45:\n",
    "        return \"Middle\"\n",
    "    else:\n",
    "        return \"Senior\"\n",
    "\n",
    "X['Age_Group'] = X['Age'].apply(categorize_age)\n",
    "X_test['Age_Group'] = X_test['Age'].apply(categorize_age)\n",
    "\n",
    "# 2. Interaction_Intensity: Интенсивность взаимодействия клиента\n",
    "X['Interaction_Intensity'] = X['Vintage'] / X['Annual_Premium']\n",
    "X_test['Interaction_Intensity'] = X_test['Vintage'] / X_test['Annual_Premium']\n",
    "\n",
    "\n",
    "# 3. Young_Owner_New_Car: Бинарный признак для молодых владельцев новых автомобилей\n",
    "X['Young_Owner_New_Car'] = ((X['Vehicle_Age_less 1 Year'] == 1) & (X['Age'] < 30)).astype(int)\n",
    "X_test['Young_Owner_New_Car'] = ((X_test['Vehicle_Age_less 1 Year'] == 1) & (X_test['Age'] < 30)).astype(int)\n",
    "\n",
    "# 4. Insured_But_Damaged: Бинарный признак, если клиент был застрахован, но получил повреждения\n",
    "X['Insured_But_Damaged'] = ((X['Previously_Insured'] == 1) & (X['Vehicle_Damage'] == True)).astype(int)\n",
    "X_test['Insured_But_Damaged'] = ((X_test['Previously_Insured'] == 1) & (X_test['Vehicle_Damage'] == True)).astype(int)\n",
    "\n",
    "# 5. Region_Avg_Premium: Средняя премия по региону\n",
    "region_avg_premium = X.groupby('Region_Code')['Annual_Premium'].transform('mean')\n",
    "X['Region_Avg_Premium'] = region_avg_premium\n",
    "region_avg_premium = X_test.groupby('Region_Code')['Annual_Premium'].transform('mean')\n",
    "X_test['Region_Avg_Premium'] = region_avg_premium\n",
    "\n",
    "\n",
    "# 6. Sales_Channel_Popularity: Популярность канала продаж\n",
    "sales_channel_popularity = X['Policy_Sales_Channel'].value_counts(normalize=True)\n",
    "X['Sales_Channel_Popularity'] = X['Policy_Sales_Channel'].map(sales_channel_popularity)\n",
    "sales_channel_popularity = X_test['Policy_Sales_Channel'].value_counts(normalize=True)\n",
    "X_test['Sales_Channel_Popularity'] = X_test['Policy_Sales_Channel'].map(sales_channel_popularity)\n",
    "\n",
    "# 7. Vintage_Group: Категоризация по сроку взаимодействия\n",
    "def categorize_vintage(vintage):\n",
    "    if vintage < 100:\n",
    "        return \"Low\"\n",
    "    elif vintage <= 200:\n",
    "        return \"Medium\"\n",
    "    else:\n",
    "        return \"High\"\n",
    "\n",
    "X['Vintage_Group'] = X['Vintage'].apply(categorize_vintage)\n",
    "X_test['Vintage_Group'] = X_test['Vintage'].apply(categorize_vintage)\n",
    "\n",
    "\n",
    "# Вывод финального DataFrame с новыми признаками\n",
    "X.head()"
   ]
  },
  {
   "cell_type": "code",
   "execution_count": null,
   "id": "89b0fe44",
   "metadata": {
    "execution": {
     "iopub.execute_input": "2024-12-17T09:46:25.254272Z",
     "iopub.status.busy": "2024-12-17T09:46:25.253725Z",
     "iopub.status.idle": "2024-12-17T09:46:25.281711Z",
     "shell.execute_reply": "2024-12-17T09:46:25.280273Z",
     "shell.execute_reply.started": "2024-12-17T09:46:25.254228Z"
    },
    "papermill": {
     "duration": null,
     "end_time": null,
     "exception": null,
     "start_time": null,
     "status": "pending"
    },
    "tags": []
   },
   "outputs": [],
   "source": [
    "X.info()"
   ]
  },
  {
   "cell_type": "markdown",
   "id": "dd38cf39",
   "metadata": {
    "papermill": {
     "duration": null,
     "end_time": null,
     "exception": null,
     "start_time": null,
     "status": "pending"
    },
    "tags": []
   },
   "source": [
    "Разделим признаковые пространства "
   ]
  },
  {
   "cell_type": "code",
   "execution_count": null,
   "id": "cc76beb3",
   "metadata": {
    "execution": {
     "iopub.execute_input": "2024-12-17T09:49:47.986138Z",
     "iopub.status.busy": "2024-12-17T09:49:47.985712Z",
     "iopub.status.idle": "2024-12-17T09:49:47.996301Z",
     "shell.execute_reply": "2024-12-17T09:49:47.994604Z",
     "shell.execute_reply.started": "2024-12-17T09:49:47.986103Z"
    },
    "papermill": {
     "duration": null,
     "end_time": null,
     "exception": null,
     "start_time": null,
     "status": "pending"
    },
    "tags": []
   },
   "outputs": [],
   "source": [
    "cat_features = ['Driving_License', 'Gender', 'Vehicle_Damage', 'Vintage_Group', 'Previously_Insured', 'Age_Group', 'Vehicle_Age_1-2 Year', 'Vehicle_Age_less 1 Year', 'Vehicle_Age_more 2 Years', 'Young_Owner_New_Car', 'Insured_But_Damaged']\n",
    "numerical_features = ['Age', 'Annual_Premium', 'premium_per_age', 'Interaction_Intensity', 'Region_Avg_Premium', 'Vintage', 'Sales_Channel_Popularity']"
   ]
  },
  {
   "cell_type": "code",
   "execution_count": null,
   "id": "26b0390c",
   "metadata": {
    "execution": {
     "iopub.execute_input": "2024-12-17T09:49:48.453145Z",
     "iopub.status.busy": "2024-12-17T09:49:48.452655Z",
     "iopub.status.idle": "2024-12-17T09:49:54.245956Z",
     "shell.execute_reply": "2024-12-17T09:49:54.244132Z",
     "shell.execute_reply.started": "2024-12-17T09:49:48.453106Z"
    },
    "papermill": {
     "duration": null,
     "end_time": null,
     "exception": null,
     "start_time": null,
     "status": "pending"
    },
    "tags": []
   },
   "outputs": [],
   "source": [
    "for feature in cat_features:\n",
    "    # print(feature, X[feature].dtype)\n",
    "    \n",
    "    X[feature] = X[feature].astype(\"category\")\n",
    "    X_test[feature] = X_test[feature].astype(\"category\")"
   ]
  },
  {
   "cell_type": "code",
   "execution_count": null,
   "id": "9a6c751b",
   "metadata": {
    "execution": {
     "iopub.execute_input": "2024-12-17T11:40:42.689548Z",
     "iopub.status.busy": "2024-12-17T11:40:42.689003Z",
     "iopub.status.idle": "2024-12-17T11:40:42.713330Z",
     "shell.execute_reply": "2024-12-17T11:40:42.711942Z",
     "shell.execute_reply.started": "2024-12-17T11:40:42.689493Z"
    },
    "papermill": {
     "duration": null,
     "end_time": null,
     "exception": null,
     "start_time": null,
     "status": "pending"
    },
    "tags": []
   },
   "outputs": [],
   "source": [
    "X.info()"
   ]
  },
  {
   "cell_type": "code",
   "execution_count": null,
   "id": "ca7d9df0",
   "metadata": {
    "execution": {
     "iopub.status.busy": "2024-12-17T14:10:30.255298Z",
     "iopub.status.idle": "2024-12-17T14:10:30.255830Z",
     "shell.execute_reply": "2024-12-17T14:10:30.255635Z",
     "shell.execute_reply.started": "2024-12-17T14:10:30.255600Z"
    },
    "papermill": {
     "duration": null,
     "end_time": null,
     "exception": null,
     "start_time": null,
     "status": "pending"
    },
    "tags": []
   },
   "outputs": [],
   "source": [
    "# Разделим обучающий набор на две части: для обучения базовых моделей и для блендинга\n",
    "X_base, X_blend, y_base, y_blend = train_test_split(X, y, stratify=y, test_size=0.5, random_state=42)\n",
    "\n",
    "# Определим базовые модели различной природы\n",
    "models = {\n",
    "    'LightGBM': LGBMClassifier(n_estimators=300, num_leaves=31, learning_rate=0.1, categorical_features=cat_features, verbosity=2),\n",
    "    'XGBoost': XGBClassifier(n_estimators=300, max_depth=6, learning_rate=0.1, enable_categorical=True, verbosity=3, device='cuda'),\n",
    "    'RandomForest': RandomForestClassifier(n_estimators=100, max_depth=10),\n",
    "    'LogisticRegression': LogisticRegression()\n",
    "}\n",
    "\n",
    "# Обучим базовые модели и сделаем предсказания\n",
    "base_predictions = {}\n",
    "for name, model in models.items():\n",
    "    if (name == \"XGBoost\"):\n",
    "        model.fit(X_base[cat_features], y_base)\n",
    "        base_predictions[name] = model.predict_proba(X_blend[cat_features])[:, 1]\n",
    "    elif (name == 'RandomForest'):\n",
    "        model.fit(X_base[numerical_features], y_base)\n",
    "        base_predictions[name] = model.predict_proba(X_blend[numerical_features])[:, 1]\n",
    "    elif (name == \"LightGBM\"):\n",
    "        model.fit(X_base, y_base)\n",
    "        base_predictions[name] = model.predict_proba(X_blend)[:, 1]\n",
    "    else:\n",
    "        model.fit(X_base[numerical_features], y_base[numerical_features])\n",
    "        base_predictions[name] = model.predict_proba(X_blend[numerical_features])[:, 1]\n",
    "    print(f'AUC для {name}: {roc_auc_score(y_blend, base_predictions[name])}')\n",
    "\n",
    "# Подготовим данные для блендинга\n",
    "blend_data = np.column_stack([base_predictions[name] for name in models.keys()])\n",
    "\n",
    "# Обучим модель для блендинга (используем CatBoost для блендинга)\n",
    "blender = LogisticRegression()\n",
    "blender.fit(blend_data, y_blend)"
   ]
  },
  {
   "cell_type": "code",
   "execution_count": null,
   "id": "7b01f1b0",
   "metadata": {
    "execution": {
     "iopub.status.busy": "2024-12-17T14:10:30.257988Z",
     "iopub.status.idle": "2024-12-17T14:10:30.258571Z",
     "shell.execute_reply": "2024-12-17T14:10:30.258318Z",
     "shell.execute_reply.started": "2024-12-17T14:10:30.258287Z"
    },
    "papermill": {
     "duration": null,
     "end_time": null,
     "exception": null,
     "start_time": null,
     "status": "pending"
    },
    "tags": []
   },
   "outputs": [],
   "source": [
    "# Сделаем предсказания базовых моделей на тестовом наборе\n",
    "test_predictions = np.column_stack([model.predict_proba(X_val)[:, 1] for model in models.values()])\n",
    "\n",
    "# Выполним блендинг на тестовом наборе\n",
    "final_predictions = blender.predict_proba(test_predictions)[:, 1]\n",
    "\n",
    "# Оценим результат\n",
    "final_auc = roc_auc_score(y_val, final_predictions)\n",
    "print(f'Финальный AUC после блендинга: {final_auc}')\n"
   ]
  },
  {
   "cell_type": "code",
   "execution_count": null,
   "id": "67173e83",
   "metadata": {
    "execution": {
     "iopub.status.busy": "2024-12-17T14:10:30.260584Z",
     "iopub.status.idle": "2024-12-17T14:10:30.261215Z",
     "shell.execute_reply": "2024-12-17T14:10:30.260956Z",
     "shell.execute_reply.started": "2024-12-17T14:10:30.260924Z"
    },
    "papermill": {
     "duration": null,
     "end_time": null,
     "exception": null,
     "start_time": null,
     "status": "pending"
    },
    "tags": []
   },
   "outputs": [],
   "source": [
    "# Сделаем предсказания базовых моделей на тестовом наборе\n",
    "test_predictions = np.column_stack([model.predict_proba(X_test)[:, 1] for model in models.values()])\n",
    "\n",
    "# Выполним блендинг на тестовом наборе\n",
    "final_predictions = blender.predict_proba(test_predictions)[:, 1]\n",
    "\n",
    "make_csv_answer(\"blending\", final_predictions)"
   ]
  },
  {
   "cell_type": "code",
   "execution_count": null,
   "id": "83b3bfd8",
   "metadata": {
    "execution": {
     "iopub.status.busy": "2024-12-17T14:10:30.263075Z",
     "iopub.status.idle": "2024-12-17T14:10:30.263652Z",
     "shell.execute_reply": "2024-12-17T14:10:30.263391Z",
     "shell.execute_reply.started": "2024-12-17T14:10:30.263362Z"
    },
    "papermill": {
     "duration": null,
     "end_time": null,
     "exception": null,
     "start_time": null,
     "status": "pending"
    },
    "tags": []
   },
   "outputs": [],
   "source": [
    "print(\"hello world\")"
   ]
  },
  {
   "cell_type": "code",
   "execution_count": null,
   "id": "49554312",
   "metadata": {
    "execution": {
     "iopub.execute_input": "2024-12-17T12:58:33.497062Z",
     "iopub.status.busy": "2024-12-17T12:58:33.495845Z",
     "iopub.status.idle": "2024-12-17T13:15:07.487623Z",
     "shell.execute_reply": "2024-12-17T13:15:07.486308Z",
     "shell.execute_reply.started": "2024-12-17T12:58:33.497015Z"
    },
    "papermill": {
     "duration": null,
     "end_time": null,
     "exception": null,
     "start_time": null,
     "status": "pending"
    },
    "tags": []
   },
   "outputs": [],
   "source": [
    "X_train, X_val, y_train, y_val = train_test_split(X, y, test_size=0.2, stratify=y, random_state=42)\n",
    "\n",
    "xgb = XGBClassifier(iterations=2000, n_estimators=500, enable_categorical=True, random_state=42, verbosity=3, device=\"cuda\")\n",
    "\n",
    "xgb.fit(X_train, y_train, eval_set=[(X_val, y_val)], verbose=2)"
   ]
  },
  {
   "cell_type": "code",
   "execution_count": null,
   "id": "46371512",
   "metadata": {
    "execution": {
     "iopub.execute_input": "2024-12-17T13:15:27.352314Z",
     "iopub.status.busy": "2024-12-17T13:15:27.351666Z",
     "iopub.status.idle": "2024-12-17T13:16:09.651509Z",
     "shell.execute_reply": "2024-12-17T13:16:09.650072Z",
     "shell.execute_reply.started": "2024-12-17T13:15:27.352265Z"
    },
    "papermill": {
     "duration": null,
     "end_time": null,
     "exception": null,
     "start_time": null,
     "status": "pending"
    },
    "tags": []
   },
   "outputs": [],
   "source": [
    "y_pred = xgb.predict_proba(X_val)[:, 1]\n",
    "\n",
    "print(f\"ROC_AUC на валидационной выборке: {roc_auc_score(y_val, y_pred)}\")"
   ]
  },
  {
   "cell_type": "code",
   "execution_count": null,
   "id": "b5158707",
   "metadata": {
    "execution": {
     "iopub.execute_input": "2024-12-17T13:29:55.906987Z",
     "iopub.status.busy": "2024-12-17T13:29:55.906444Z",
     "iopub.status.idle": "2024-12-17T13:32:26.498468Z",
     "shell.execute_reply": "2024-12-17T13:32:26.497243Z",
     "shell.execute_reply.started": "2024-12-17T13:29:55.906940Z"
    },
    "papermill": {
     "duration": null,
     "end_time": null,
     "exception": null,
     "start_time": null,
     "status": "pending"
    },
    "tags": []
   },
   "outputs": [],
   "source": [
    "y_pred = xgb.predict_proba(X_test)[:, 1]\n",
    "\n",
    "make_csv_answer(\"xgboost_new_features\", y_pred)"
   ]
  },
  {
   "cell_type": "code",
   "execution_count": null,
   "id": "b9530a64",
   "metadata": {
    "papermill": {
     "duration": null,
     "end_time": null,
     "exception": null,
     "start_time": null,
     "status": "pending"
    },
    "tags": []
   },
   "outputs": [],
   "source": []
  }
 ],
 "metadata": {
  "kaggle": {
   "accelerator": "none",
   "dataSources": [
    {
     "databundleVersionId": 8930475,
     "sourceId": 73291,
     "sourceType": "competition"
    }
   ],
   "dockerImageVersionId": 30804,
   "isGpuEnabled": false,
   "isInternetEnabled": false,
   "language": "python",
   "sourceType": "notebook"
  },
  "kernelspec": {
   "display_name": "Python 3",
   "language": "python",
   "name": "python3"
  },
  "language_info": {
   "codemirror_mode": {
    "name": "ipython",
    "version": 3
   },
   "file_extension": ".py",
   "mimetype": "text/x-python",
   "name": "python",
   "nbconvert_exporter": "python",
   "pygments_lexer": "ipython3",
   "version": "3.10.14"
  },
  "papermill": {
   "default_parameters": {},
   "duration": 36.222948,
   "end_time": "2024-12-17T14:18:37.482038",
   "environment_variables": {},
   "exception": true,
   "input_path": "__notebook__.ipynb",
   "output_path": "__notebook__.ipynb",
   "parameters": {},
   "start_time": "2024-12-17T14:18:01.259090",
   "version": "2.6.0"
  }
 },
 "nbformat": 4,
 "nbformat_minor": 5
}
