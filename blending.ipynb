{
 "cells": [
  {
   "cell_type": "code",
   "execution_count": 1,
   "id": "e4890e7f",
   "metadata": {
    "_cell_guid": "b1076dfc-b9ad-4769-8c92-a6c4dae69d19",
    "_uuid": "8f2839f25d086af736a60e9eeb907d3b93b6e0e5",
    "execution": {
     "iopub.execute_input": "2024-12-07T23:00:21.972078Z",
     "iopub.status.busy": "2024-12-07T23:00:21.971577Z",
     "iopub.status.idle": "2024-12-07T23:00:26.507862Z",
     "shell.execute_reply": "2024-12-07T23:00:26.506626Z"
    },
    "papermill": {
     "duration": 4.547209,
     "end_time": "2024-12-07T23:00:26.510357",
     "exception": false,
     "start_time": "2024-12-07T23:00:21.963148",
     "status": "completed"
    },
    "tags": []
   },
   "outputs": [],
   "source": [
    "import numpy as np\n",
    "import pandas as pd \n",
    "import seaborn as sns\n",
    "\n",
    "from sklearn.preprocessing import StandardScaler\n",
    "from sklearn.preprocessing import OneHotEncoder\n",
    "from sklearn.model_selection import train_test_split\n",
    "from sklearn.metrics import roc_auc_score\n",
    "from sklearn.linear_model import LogisticRegression\n",
    "from sklearn.neighbors import KNeighborsClassifier\n",
    "from xgboost import XGBClassifier\n",
    "from lightgbm import LGBMClassifier"
   ]
  },
  {
   "cell_type": "code",
   "execution_count": 2,
   "id": "4bd2c547",
   "metadata": {
    "execution": {
     "iopub.execute_input": "2024-12-07T23:00:26.525515Z",
     "iopub.status.busy": "2024-12-07T23:00:26.524189Z",
     "iopub.status.idle": "2024-12-07T23:01:00.134554Z",
     "shell.execute_reply": "2024-12-07T23:01:00.133050Z"
    },
    "papermill": {
     "duration": 33.620708,
     "end_time": "2024-12-07T23:01:00.137213",
     "exception": false,
     "start_time": "2024-12-07T23:00:26.516505",
     "status": "completed"
    },
    "tags": []
   },
   "outputs": [],
   "source": [
    "train = pd.read_csv('/kaggle/input/playground-series-s4e7/train.csv', index_col = \"id\")\n",
    "test = pd.read_csv('/kaggle/input/playground-series-s4e7/test.csv', index_col = \"id\")"
   ]
  },
  {
   "cell_type": "code",
   "execution_count": 3,
   "id": "403d80df",
   "metadata": {
    "execution": {
     "iopub.execute_input": "2024-12-07T23:01:00.152210Z",
     "iopub.status.busy": "2024-12-07T23:01:00.151810Z",
     "iopub.status.idle": "2024-12-07T23:01:00.703789Z",
     "shell.execute_reply": "2024-12-07T23:01:00.702512Z"
    },
    "papermill": {
     "duration": 0.563213,
     "end_time": "2024-12-07T23:01:00.706420",
     "exception": false,
     "start_time": "2024-12-07T23:01:00.143207",
     "status": "completed"
    },
    "tags": []
   },
   "outputs": [],
   "source": [
    "y = train['Response']\n",
    "X = train.drop(['Response'], axis = 1)\n",
    "\n",
    "X_train = X\n",
    "y_train = y\n",
    "X_test = test"
   ]
  },
  {
   "cell_type": "code",
   "execution_count": 4,
   "id": "90e1a8b3",
   "metadata": {
    "execution": {
     "iopub.execute_input": "2024-12-07T23:01:00.720079Z",
     "iopub.status.busy": "2024-12-07T23:01:00.719635Z",
     "iopub.status.idle": "2024-12-07T23:01:04.121429Z",
     "shell.execute_reply": "2024-12-07T23:01:04.120350Z"
    },
    "papermill": {
     "duration": 3.41126,
     "end_time": "2024-12-07T23:01:04.123670",
     "exception": false,
     "start_time": "2024-12-07T23:01:00.712410",
     "status": "completed"
    },
    "tags": []
   },
   "outputs": [
    {
     "data": {
      "text/html": [
       "<div>\n",
       "<style scoped>\n",
       "    .dataframe tbody tr th:only-of-type {\n",
       "        vertical-align: middle;\n",
       "    }\n",
       "\n",
       "    .dataframe tbody tr th {\n",
       "        vertical-align: top;\n",
       "    }\n",
       "\n",
       "    .dataframe thead th {\n",
       "        text-align: right;\n",
       "    }\n",
       "</style>\n",
       "<table border=\"1\" class=\"dataframe\">\n",
       "  <thead>\n",
       "    <tr style=\"text-align: right;\">\n",
       "      <th></th>\n",
       "      <th>total missing</th>\n",
       "      <th>proportion</th>\n",
       "    </tr>\n",
       "  </thead>\n",
       "  <tbody>\n",
       "    <tr>\n",
       "      <th>Gender</th>\n",
       "      <td>0</td>\n",
       "      <td>0.0</td>\n",
       "    </tr>\n",
       "    <tr>\n",
       "      <th>Age</th>\n",
       "      <td>0</td>\n",
       "      <td>0.0</td>\n",
       "    </tr>\n",
       "    <tr>\n",
       "      <th>Driving_License</th>\n",
       "      <td>0</td>\n",
       "      <td>0.0</td>\n",
       "    </tr>\n",
       "    <tr>\n",
       "      <th>Region_Code</th>\n",
       "      <td>0</td>\n",
       "      <td>0.0</td>\n",
       "    </tr>\n",
       "    <tr>\n",
       "      <th>Previously_Insured</th>\n",
       "      <td>0</td>\n",
       "      <td>0.0</td>\n",
       "    </tr>\n",
       "    <tr>\n",
       "      <th>Vehicle_Age</th>\n",
       "      <td>0</td>\n",
       "      <td>0.0</td>\n",
       "    </tr>\n",
       "    <tr>\n",
       "      <th>Vehicle_Damage</th>\n",
       "      <td>0</td>\n",
       "      <td>0.0</td>\n",
       "    </tr>\n",
       "    <tr>\n",
       "      <th>Annual_Premium</th>\n",
       "      <td>0</td>\n",
       "      <td>0.0</td>\n",
       "    </tr>\n",
       "    <tr>\n",
       "      <th>Policy_Sales_Channel</th>\n",
       "      <td>0</td>\n",
       "      <td>0.0</td>\n",
       "    </tr>\n",
       "    <tr>\n",
       "      <th>Vintage</th>\n",
       "      <td>0</td>\n",
       "      <td>0.0</td>\n",
       "    </tr>\n",
       "  </tbody>\n",
       "</table>\n",
       "</div>"
      ],
      "text/plain": [
       "                      total missing  proportion\n",
       "Gender                            0         0.0\n",
       "Age                               0         0.0\n",
       "Driving_License                   0         0.0\n",
       "Region_Code                       0         0.0\n",
       "Previously_Insured                0         0.0\n",
       "Vehicle_Age                       0         0.0\n",
       "Vehicle_Damage                    0         0.0\n",
       "Annual_Premium                    0         0.0\n",
       "Policy_Sales_Channel              0         0.0\n",
       "Vintage                           0         0.0"
      ]
     },
     "execution_count": 4,
     "metadata": {},
     "output_type": "execute_result"
    }
   ],
   "source": [
    "result = pd.concat([X.isnull().sum(), X.isnull().mean()], axis = 1)\n",
    "result.rename(index = str, columns = {0: 'total missing', 1: 'proportion'})"
   ]
  },
  {
   "cell_type": "code",
   "execution_count": 5,
   "id": "bf2eac9f",
   "metadata": {
    "execution": {
     "iopub.execute_input": "2024-12-07T23:01:04.137748Z",
     "iopub.status.busy": "2024-12-07T23:01:04.137293Z",
     "iopub.status.idle": "2024-12-07T23:01:04.144022Z",
     "shell.execute_reply": "2024-12-07T23:01:04.142823Z"
    },
    "papermill": {
     "duration": 0.01673,
     "end_time": "2024-12-07T23:01:04.146450",
     "exception": false,
     "start_time": "2024-12-07T23:01:04.129720",
     "status": "completed"
    },
    "tags": []
   },
   "outputs": [],
   "source": [
    "def IQR_and_replace_with_median(data, columns, threshold = 1.5):\n",
    "    for column in columns:\n",
    "        Q1 = data[column].quantile(0.25)\n",
    "        Q3 = data[column].quantile(0.75)\n",
    "\n",
    "        IQR = Q3 - Q1\n",
    "        lower_bound = Q1 - threshold * IQR\n",
    "        upper_bound = Q3 + threshold * IQR\n",
    "        median = data[column].median()\n",
    "\n",
    "        data.loc[data[column] < lower_bound, column] = median\n",
    "        data.loc[data[column] > upper_bound, column] = median"
   ]
  },
  {
   "cell_type": "code",
   "execution_count": 6,
   "id": "02665ecd",
   "metadata": {
    "execution": {
     "iopub.execute_input": "2024-12-07T23:01:04.160567Z",
     "iopub.status.busy": "2024-12-07T23:01:04.160101Z",
     "iopub.status.idle": "2024-12-07T23:01:04.165372Z",
     "shell.execute_reply": "2024-12-07T23:01:04.164271Z"
    },
    "papermill": {
     "duration": 0.015097,
     "end_time": "2024-12-07T23:01:04.167796",
     "exception": false,
     "start_time": "2024-12-07T23:01:04.152699",
     "status": "completed"
    },
    "tags": []
   },
   "outputs": [],
   "source": [
    "columns_to_find_outlier = ['Annual_Premium', 'Policy_Sales_Channel']"
   ]
  },
  {
   "cell_type": "code",
   "execution_count": 7,
   "id": "276c3f57",
   "metadata": {
    "execution": {
     "iopub.execute_input": "2024-12-07T23:01:04.181696Z",
     "iopub.status.busy": "2024-12-07T23:01:04.181265Z",
     "iopub.status.idle": "2024-12-07T23:01:05.617670Z",
     "shell.execute_reply": "2024-12-07T23:01:05.616707Z"
    },
    "papermill": {
     "duration": 1.446227,
     "end_time": "2024-12-07T23:01:05.620162",
     "exception": false,
     "start_time": "2024-12-07T23:01:04.173935",
     "status": "completed"
    },
    "tags": []
   },
   "outputs": [],
   "source": [
    "IQR_and_replace_with_median(X_train, columns_to_find_outlier, 1.5)"
   ]
  },
  {
   "cell_type": "code",
   "execution_count": 8,
   "id": "3c465445",
   "metadata": {
    "execution": {
     "iopub.execute_input": "2024-12-07T23:01:05.635074Z",
     "iopub.status.busy": "2024-12-07T23:01:05.634642Z",
     "iopub.status.idle": "2024-12-07T23:01:05.753455Z",
     "shell.execute_reply": "2024-12-07T23:01:05.752199Z"
    },
    "papermill": {
     "duration": 0.129227,
     "end_time": "2024-12-07T23:01:05.756200",
     "exception": false,
     "start_time": "2024-12-07T23:01:05.626973",
     "status": "completed"
    },
    "tags": []
   },
   "outputs": [
    {
     "name": "stdout",
     "output_type": "stream",
     "text": [
      "Mean for Annual_Premium: 34966.76251977653, Min: 4021.0, Max: 60711.0\n",
      "Mean for Vintage: 163.89774388042275, Min: 10, Max: 299\n"
     ]
    }
   ],
   "source": [
    "print(f\"Mean for Annual_Premium: {X['Annual_Premium'].mean()}, Min: {X['Annual_Premium'].min()}, Max: {X['Annual_Premium'].max()}\")\n",
    "print(f\"Mean for Vintage: {X['Vintage'].mean()}, Min: {X['Vintage'].min()}, Max: {X['Vintage'].max()}\")"
   ]
  },
  {
   "cell_type": "markdown",
   "id": "7533e03a",
   "metadata": {
    "papermill": {
     "duration": 0.005856,
     "end_time": "2024-12-07T23:01:05.768204",
     "exception": false,
     "start_time": "2024-12-07T23:01:05.762348",
     "status": "completed"
    },
    "tags": []
   },
   "source": []
  },
  {
   "cell_type": "code",
   "execution_count": 9,
   "id": "b6745b19",
   "metadata": {
    "execution": {
     "iopub.execute_input": "2024-12-07T23:01:05.782247Z",
     "iopub.status.busy": "2024-12-07T23:01:05.781689Z",
     "iopub.status.idle": "2024-12-07T23:01:06.652273Z",
     "shell.execute_reply": "2024-12-07T23:01:06.651215Z"
    },
    "papermill": {
     "duration": 0.880308,
     "end_time": "2024-12-07T23:01:06.654685",
     "exception": false,
     "start_time": "2024-12-07T23:01:05.774377",
     "status": "completed"
    },
    "tags": []
   },
   "outputs": [],
   "source": [
    "columns_to_scale = ['Annual_Premium', 'Vintage']\n",
    "\n",
    "scaler = StandardScaler()\n",
    "scaler.fit(X_train[columns_to_scale])\n",
    "\n",
    "X_train[columns_to_scale] = scaler.transform(X_train[columns_to_scale])\n",
    "#X_valid[columns_to_scale] = scaler.transform(X_valid[columns_to_scale])\n",
    "X_test[columns_to_scale] = scaler.transform(X_test[columns_to_scale])"
   ]
  },
  {
   "cell_type": "code",
   "execution_count": 10,
   "id": "db81b767",
   "metadata": {
    "execution": {
     "iopub.execute_input": "2024-12-07T23:01:06.668673Z",
     "iopub.status.busy": "2024-12-07T23:01:06.668235Z",
     "iopub.status.idle": "2024-12-07T23:01:06.673366Z",
     "shell.execute_reply": "2024-12-07T23:01:06.672428Z"
    },
    "papermill": {
     "duration": 0.015064,
     "end_time": "2024-12-07T23:01:06.675924",
     "exception": false,
     "start_time": "2024-12-07T23:01:06.660860",
     "status": "completed"
    },
    "tags": []
   },
   "outputs": [],
   "source": [
    "categorical_features = ['Gender', 'Vehicle_Age', 'Vehicle_Damage']"
   ]
  },
  {
   "cell_type": "code",
   "execution_count": 11,
   "id": "27fc6115",
   "metadata": {
    "execution": {
     "iopub.execute_input": "2024-12-07T23:01:06.690487Z",
     "iopub.status.busy": "2024-12-07T23:01:06.690089Z",
     "iopub.status.idle": "2024-12-07T23:01:07.021791Z",
     "shell.execute_reply": "2024-12-07T23:01:07.020704Z"
    },
    "papermill": {
     "duration": 0.341666,
     "end_time": "2024-12-07T23:01:07.024398",
     "exception": false,
     "start_time": "2024-12-07T23:01:06.682732",
     "status": "completed"
    },
    "tags": []
   },
   "outputs": [],
   "source": [
    "X_train_categorical = X_train[categorical_features]"
   ]
  },
  {
   "cell_type": "code",
   "execution_count": 12,
   "id": "41b09a00",
   "metadata": {
    "execution": {
     "iopub.execute_input": "2024-12-07T23:01:07.039835Z",
     "iopub.status.busy": "2024-12-07T23:01:07.039371Z",
     "iopub.status.idle": "2024-12-07T23:01:07.053309Z",
     "shell.execute_reply": "2024-12-07T23:01:07.052057Z"
    },
    "papermill": {
     "duration": 0.024657,
     "end_time": "2024-12-07T23:01:07.055693",
     "exception": false,
     "start_time": "2024-12-07T23:01:07.031036",
     "status": "completed"
    },
    "tags": []
   },
   "outputs": [
    {
     "data": {
      "text/html": [
       "<div>\n",
       "<style scoped>\n",
       "    .dataframe tbody tr th:only-of-type {\n",
       "        vertical-align: middle;\n",
       "    }\n",
       "\n",
       "    .dataframe tbody tr th {\n",
       "        vertical-align: top;\n",
       "    }\n",
       "\n",
       "    .dataframe thead th {\n",
       "        text-align: right;\n",
       "    }\n",
       "</style>\n",
       "<table border=\"1\" class=\"dataframe\">\n",
       "  <thead>\n",
       "    <tr style=\"text-align: right;\">\n",
       "      <th></th>\n",
       "      <th>Gender</th>\n",
       "      <th>Vehicle_Age</th>\n",
       "      <th>Vehicle_Damage</th>\n",
       "    </tr>\n",
       "    <tr>\n",
       "      <th>id</th>\n",
       "      <th></th>\n",
       "      <th></th>\n",
       "      <th></th>\n",
       "    </tr>\n",
       "  </thead>\n",
       "  <tbody>\n",
       "    <tr>\n",
       "      <th>0</th>\n",
       "      <td>Male</td>\n",
       "      <td>1-2 Year</td>\n",
       "      <td>Yes</td>\n",
       "    </tr>\n",
       "    <tr>\n",
       "      <th>1</th>\n",
       "      <td>Male</td>\n",
       "      <td>&gt; 2 Years</td>\n",
       "      <td>Yes</td>\n",
       "    </tr>\n",
       "    <tr>\n",
       "      <th>2</th>\n",
       "      <td>Female</td>\n",
       "      <td>&lt; 1 Year</td>\n",
       "      <td>No</td>\n",
       "    </tr>\n",
       "    <tr>\n",
       "      <th>3</th>\n",
       "      <td>Female</td>\n",
       "      <td>1-2 Year</td>\n",
       "      <td>Yes</td>\n",
       "    </tr>\n",
       "    <tr>\n",
       "      <th>4</th>\n",
       "      <td>Female</td>\n",
       "      <td>1-2 Year</td>\n",
       "      <td>No</td>\n",
       "    </tr>\n",
       "    <tr>\n",
       "      <th>...</th>\n",
       "      <td>...</td>\n",
       "      <td>...</td>\n",
       "      <td>...</td>\n",
       "    </tr>\n",
       "    <tr>\n",
       "      <th>11504793</th>\n",
       "      <td>Male</td>\n",
       "      <td>1-2 Year</td>\n",
       "      <td>Yes</td>\n",
       "    </tr>\n",
       "    <tr>\n",
       "      <th>11504794</th>\n",
       "      <td>Female</td>\n",
       "      <td>&lt; 1 Year</td>\n",
       "      <td>Yes</td>\n",
       "    </tr>\n",
       "    <tr>\n",
       "      <th>11504795</th>\n",
       "      <td>Female</td>\n",
       "      <td>&lt; 1 Year</td>\n",
       "      <td>No</td>\n",
       "    </tr>\n",
       "    <tr>\n",
       "      <th>11504796</th>\n",
       "      <td>Female</td>\n",
       "      <td>1-2 Year</td>\n",
       "      <td>Yes</td>\n",
       "    </tr>\n",
       "    <tr>\n",
       "      <th>11504797</th>\n",
       "      <td>Male</td>\n",
       "      <td>&lt; 1 Year</td>\n",
       "      <td>No</td>\n",
       "    </tr>\n",
       "  </tbody>\n",
       "</table>\n",
       "<p>11504798 rows × 3 columns</p>\n",
       "</div>"
      ],
      "text/plain": [
       "          Gender Vehicle_Age Vehicle_Damage\n",
       "id                                         \n",
       "0           Male    1-2 Year            Yes\n",
       "1           Male   > 2 Years            Yes\n",
       "2         Female    < 1 Year             No\n",
       "3         Female    1-2 Year            Yes\n",
       "4         Female    1-2 Year             No\n",
       "...          ...         ...            ...\n",
       "11504793    Male    1-2 Year            Yes\n",
       "11504794  Female    < 1 Year            Yes\n",
       "11504795  Female    < 1 Year             No\n",
       "11504796  Female    1-2 Year            Yes\n",
       "11504797    Male    < 1 Year             No\n",
       "\n",
       "[11504798 rows x 3 columns]"
      ]
     },
     "execution_count": 12,
     "metadata": {},
     "output_type": "execute_result"
    }
   ],
   "source": [
    "X_train_categorical"
   ]
  },
  {
   "cell_type": "code",
   "execution_count": 13,
   "id": "fcda9707",
   "metadata": {
    "execution": {
     "iopub.execute_input": "2024-12-07T23:01:07.070297Z",
     "iopub.status.busy": "2024-12-07T23:01:07.069878Z",
     "iopub.status.idle": "2024-12-07T23:01:07.445744Z",
     "shell.execute_reply": "2024-12-07T23:01:07.444690Z"
    },
    "papermill": {
     "duration": 0.385983,
     "end_time": "2024-12-07T23:01:07.448252",
     "exception": false,
     "start_time": "2024-12-07T23:01:07.062269",
     "status": "completed"
    },
    "tags": []
   },
   "outputs": [],
   "source": [
    "X_train_numerical = X_train.drop(categorical_features, axis = 1)"
   ]
  },
  {
   "cell_type": "code",
   "execution_count": 14,
   "id": "b0e4ea7d",
   "metadata": {
    "execution": {
     "iopub.execute_input": "2024-12-07T23:01:07.463494Z",
     "iopub.status.busy": "2024-12-07T23:01:07.463092Z",
     "iopub.status.idle": "2024-12-07T23:01:23.857347Z",
     "shell.execute_reply": "2024-12-07T23:01:23.856001Z"
    },
    "papermill": {
     "duration": 16.405297,
     "end_time": "2024-12-07T23:01:23.859919",
     "exception": false,
     "start_time": "2024-12-07T23:01:07.454622",
     "status": "completed"
    },
    "tags": []
   },
   "outputs": [
    {
     "name": "stderr",
     "output_type": "stream",
     "text": [
      "/opt/conda/lib/python3.10/site-packages/sklearn/preprocessing/_encoders.py:868: FutureWarning: `sparse` was renamed to `sparse_output` in version 1.2 and will be removed in 1.4. `sparse_output` is ignored unless you leave `sparse` to its default value.\n",
      "  warnings.warn(\n"
     ]
    }
   ],
   "source": [
    "onehot = OneHotEncoder(sparse = False)\n",
    "\n",
    "train_onehot_cols = onehot.fit_transform(X_train_categorical)\n",
    "#valid_onehot_cols = onehot.transform(X_valid[categorical_features])\n",
    "test_onehot_cols = onehot.transform(X_test[categorical_features])\n",
    "\n",
    "train_onehot_cols = pd.DataFrame(train_onehot_cols, columns = onehot.get_feature_names_out(categorical_features))\n",
    "#valid_onehot_cols = pd.DataFrame(valid_onehot_cols, columns = onehot.get_feature_names_out(categorical_features))\n",
    "test_onehot_cols = pd.DataFrame(test_onehot_cols, columns = onehot.get_feature_names_out(categorical_features))\n",
    "\n",
    "train_onehot_cols.index = X_train.index\n",
    "#valid_onehot_cols.index = X_valid.index\n",
    "test_onehot_cols.index = X_test.index"
   ]
  },
  {
   "cell_type": "code",
   "execution_count": 15,
   "id": "2df5e6fa",
   "metadata": {
    "execution": {
     "iopub.execute_input": "2024-12-07T23:01:23.874413Z",
     "iopub.status.busy": "2024-12-07T23:01:23.874039Z",
     "iopub.status.idle": "2024-12-07T23:01:23.879773Z",
     "shell.execute_reply": "2024-12-07T23:01:23.878507Z"
    },
    "papermill": {
     "duration": 0.015567,
     "end_time": "2024-12-07T23:01:23.882009",
     "exception": false,
     "start_time": "2024-12-07T23:01:23.866442",
     "status": "completed"
    },
    "tags": []
   },
   "outputs": [],
   "source": [
    "numerical_features = X_train.columns.drop(categorical_features)"
   ]
  },
  {
   "cell_type": "code",
   "execution_count": 16,
   "id": "0c9e9a59",
   "metadata": {
    "execution": {
     "iopub.execute_input": "2024-12-07T23:01:23.896299Z",
     "iopub.status.busy": "2024-12-07T23:01:23.895938Z",
     "iopub.status.idle": "2024-12-07T23:01:26.547506Z",
     "shell.execute_reply": "2024-12-07T23:01:26.546418Z"
    },
    "papermill": {
     "duration": 2.661709,
     "end_time": "2024-12-07T23:01:26.550051",
     "exception": false,
     "start_time": "2024-12-07T23:01:23.888342",
     "status": "completed"
    },
    "tags": []
   },
   "outputs": [],
   "source": [
    "X_train_onehot = pd.concat([X_train[numerical_features], train_onehot_cols], axis = 1)\n",
    "#X_valid_onehot = pd.concat([X_valid[numerical_features], valid_onehot_cols], axis = 1)\n",
    "X_test_onehot = pd.concat([X_test[numerical_features], test_onehot_cols], axis = 1)"
   ]
  },
  {
   "cell_type": "code",
   "execution_count": 17,
   "id": "1c6a6bf6",
   "metadata": {
    "execution": {
     "iopub.execute_input": "2024-12-07T23:01:26.564845Z",
     "iopub.status.busy": "2024-12-07T23:01:26.564377Z",
     "iopub.status.idle": "2024-12-07T23:01:28.308636Z",
     "shell.execute_reply": "2024-12-07T23:01:28.307473Z"
    },
    "papermill": {
     "duration": 1.754563,
     "end_time": "2024-12-07T23:01:28.311209",
     "exception": false,
     "start_time": "2024-12-07T23:01:26.556646",
     "status": "completed"
    },
    "tags": []
   },
   "outputs": [],
   "source": [
    "X_train_onehot = X_train_onehot.rename(columns = {'Vehicle_Age_< 1 Year': 'Vehicle_Age_less 1 Year',\n",
    "                       'Vehicle_Age_> 2 Years': 'Vehicle_Age_more 2 Years'})"
   ]
  },
  {
   "cell_type": "code",
   "execution_count": 18,
   "id": "cd871fad",
   "metadata": {
    "execution": {
     "iopub.execute_input": "2024-12-07T23:01:28.325537Z",
     "iopub.status.busy": "2024-12-07T23:01:28.325165Z",
     "iopub.status.idle": "2024-12-07T23:01:29.178037Z",
     "shell.execute_reply": "2024-12-07T23:01:29.176725Z"
    },
    "papermill": {
     "duration": 0.862956,
     "end_time": "2024-12-07T23:01:29.180568",
     "exception": false,
     "start_time": "2024-12-07T23:01:28.317612",
     "status": "completed"
    },
    "tags": []
   },
   "outputs": [],
   "source": [
    "X_test_onehot = X_test_onehot.rename(columns = {'Vehicle_Age_< 1 Year': 'Vehicle_Age_less 1 Year',\n",
    "                       'Vehicle_Age_> 2 Years': 'Vehicle_Age_more 2 Years'})"
   ]
  },
  {
   "cell_type": "code",
   "execution_count": 19,
   "id": "8c2883a6",
   "metadata": {
    "execution": {
     "iopub.execute_input": "2024-12-07T23:01:29.198272Z",
     "iopub.status.busy": "2024-12-07T23:01:29.197737Z",
     "iopub.status.idle": "2024-12-07T23:01:29.211761Z",
     "shell.execute_reply": "2024-12-07T23:01:29.210114Z"
    },
    "papermill": {
     "duration": 0.026517,
     "end_time": "2024-12-07T23:01:29.214553",
     "exception": false,
     "start_time": "2024-12-07T23:01:29.188036",
     "status": "completed"
    },
    "tags": []
   },
   "outputs": [],
   "source": [
    "class Blending():\n",
    "    def __init__(self, models, meta_model):\n",
    "        self.models = models\n",
    "        self.meta_model = meta_model\n",
    "\n",
    "    def fit(self, X, y):\n",
    "        X_train, X_valid, y_train, y_valid = train_test_split(X, y, stratify = y, test_size = 0.2)\n",
    "\n",
    "        models_val_predictions = []\n",
    "        for model in self.models:\n",
    "            model.fit(X_train, y_train)\n",
    "            predictions = model.predict(X_valid)\n",
    "            models_val_predictions.append(pd.DataFrame(predictions, index = X_valid.index))\n",
    "            \n",
    "        meta_feature = pd.concat([X_valid] + models_val_predictions, axis = 1)\n",
    "        meta_feature.columns = meta_feature.columns.astype(str)\n",
    "        \n",
    "        self.meta_model.fit(meta_feature, y_valid)\n",
    "\n",
    "    def predict_proba(self, X):\n",
    "        models_predictions = []\n",
    "        for model in self.models:\n",
    "            predictions = model.predict(X)\n",
    "            models_predictions.append(pd.DataFrame(predictions, index = X.index))\n",
    "            \n",
    "        meta_feature = pd.concat([X] + models_predictions, axis = 1)\n",
    "        meta_feature.columns = meta_feature.columns.astype(str)\n",
    "\n",
    "        return self.meta_model.predict_proba(meta_feature)"
   ]
  },
  {
   "cell_type": "code",
   "execution_count": 20,
   "id": "6b829739",
   "metadata": {
    "execution": {
     "iopub.execute_input": "2024-12-07T23:01:29.231021Z",
     "iopub.status.busy": "2024-12-07T23:01:29.230479Z",
     "iopub.status.idle": "2024-12-07T23:01:29.237441Z",
     "shell.execute_reply": "2024-12-07T23:01:29.236300Z"
    },
    "papermill": {
     "duration": 0.018934,
     "end_time": "2024-12-07T23:01:29.240390",
     "exception": false,
     "start_time": "2024-12-07T23:01:29.221456",
     "status": "completed"
    },
    "tags": []
   },
   "outputs": [],
   "source": [
    "reg = LogisticRegression()\n",
    "\n",
    "xgboost = XGBClassifier(n_estimators = 150)\n",
    "lgbm = LGBMClassifier(n_estimators = 300)\n",
    "knn = KNeighborsClassifier()"
   ]
  },
  {
   "cell_type": "code",
   "execution_count": 21,
   "id": "ea35ffcc",
   "metadata": {
    "execution": {
     "iopub.execute_input": "2024-12-07T23:01:29.260804Z",
     "iopub.status.busy": "2024-12-07T23:01:29.260217Z",
     "iopub.status.idle": "2024-12-07T23:19:37.663507Z",
     "shell.execute_reply": "2024-12-07T23:19:37.659210Z"
    },
    "papermill": {
     "duration": 1088.431029,
     "end_time": "2024-12-07T23:19:37.682759",
     "exception": false,
     "start_time": "2024-12-07T23:01:29.251730",
     "status": "completed"
    },
    "tags": []
   },
   "outputs": [
    {
     "name": "stdout",
     "output_type": "stream",
     "text": [
      "[LightGBM] [Warning] Found whitespace in feature_names, replace with underlines\n",
      "[LightGBM] [Info] Number of positive: 1132047, number of negative: 8071791\n",
      "[LightGBM] [Info] Auto-choosing row-wise multi-threading, the overhead of testing was 0.180774 seconds.\n",
      "You can set `force_row_wise=true` to remove the overhead.\n",
      "And if memory is not enough, you can set `force_col_wise=true`.\n",
      "[LightGBM] [Info] Total Bins 749\n",
      "[LightGBM] [Info] Number of data points in the train set: 9203838, number of used features: 14\n",
      "[LightGBM] [Info] [binary:BoostFromScore]: pavg=0.122997 -> initscore=-1.964348\n",
      "[LightGBM] [Info] Start training from score -1.964348\n"
     ]
    },
    {
     "name": "stderr",
     "output_type": "stream",
     "text": [
      "/opt/conda/lib/python3.10/site-packages/sklearn/linear_model/_logistic.py:458: ConvergenceWarning: lbfgs failed to converge (status=1):\n",
      "STOP: TOTAL NO. of ITERATIONS REACHED LIMIT.\n",
      "\n",
      "Increase the number of iterations (max_iter) or scale the data as shown in:\n",
      "    https://scikit-learn.org/stable/modules/preprocessing.html\n",
      "Please also refer to the documentation for alternative solver options:\n",
      "    https://scikit-learn.org/stable/modules/linear_model.html#logistic-regression\n",
      "  n_iter_i = _check_optimize_result(\n"
     ]
    }
   ],
   "source": [
    "model = Blending([xgboost, lgbm, knn], reg)\n",
    "model.fit(X_train_onehot, y_train)"
   ]
  },
  {
   "cell_type": "code",
   "execution_count": 22,
   "id": "e77632a5",
   "metadata": {
    "execution": {
     "iopub.execute_input": "2024-12-07T23:19:37.719911Z",
     "iopub.status.busy": "2024-12-07T23:19:37.717152Z",
     "iopub.status.idle": "2024-12-08T00:07:18.467214Z",
     "shell.execute_reply": "2024-12-08T00:07:18.465510Z"
    },
    "papermill": {
     "duration": 2860.775765,
     "end_time": "2024-12-08T00:07:18.471235",
     "exception": false,
     "start_time": "2024-12-07T23:19:37.695470",
     "status": "completed"
    },
    "tags": []
   },
   "outputs": [],
   "source": [
    "proba = model.predict_proba(X_test_onehot)"
   ]
  },
  {
   "cell_type": "code",
   "execution_count": 23,
   "id": "7d9fdd64",
   "metadata": {
    "execution": {
     "iopub.execute_input": "2024-12-08T00:07:18.489064Z",
     "iopub.status.busy": "2024-12-08T00:07:18.488622Z",
     "iopub.status.idle": "2024-12-08T00:07:20.902806Z",
     "shell.execute_reply": "2024-12-08T00:07:20.901686Z"
    },
    "papermill": {
     "duration": 2.424946,
     "end_time": "2024-12-08T00:07:20.905378",
     "exception": false,
     "start_time": "2024-12-08T00:07:18.480432",
     "status": "completed"
    },
    "tags": []
   },
   "outputs": [],
   "source": [
    "pseudo_labels = pd.DataFrame(proba, index = X_test_onehot.index, columns = model.meta_model.classes_)\n",
    "pseudo_labels['label'] = pseudo_labels.idxmax(axis = 1)\n",
    "pseudo_labels['confidence'] = pseudo_labels.max(axis = 1)"
   ]
  },
  {
   "cell_type": "code",
   "execution_count": 24,
   "id": "8780d71b",
   "metadata": {
    "execution": {
     "iopub.execute_input": "2024-12-08T00:07:20.921022Z",
     "iopub.status.busy": "2024-12-08T00:07:20.920577Z",
     "iopub.status.idle": "2024-12-08T00:07:20.937501Z",
     "shell.execute_reply": "2024-12-08T00:07:20.936334Z"
    },
    "papermill": {
     "duration": 0.027781,
     "end_time": "2024-12-08T00:07:20.940491",
     "exception": false,
     "start_time": "2024-12-08T00:07:20.912710",
     "status": "completed"
    },
    "tags": []
   },
   "outputs": [
    {
     "data": {
      "text/html": [
       "<div>\n",
       "<style scoped>\n",
       "    .dataframe tbody tr th:only-of-type {\n",
       "        vertical-align: middle;\n",
       "    }\n",
       "\n",
       "    .dataframe tbody tr th {\n",
       "        vertical-align: top;\n",
       "    }\n",
       "\n",
       "    .dataframe thead th {\n",
       "        text-align: right;\n",
       "    }\n",
       "</style>\n",
       "<table border=\"1\" class=\"dataframe\">\n",
       "  <thead>\n",
       "    <tr style=\"text-align: right;\">\n",
       "      <th></th>\n",
       "      <th>0</th>\n",
       "      <th>1</th>\n",
       "      <th>label</th>\n",
       "      <th>confidence</th>\n",
       "    </tr>\n",
       "    <tr>\n",
       "      <th>id</th>\n",
       "      <th></th>\n",
       "      <th></th>\n",
       "      <th></th>\n",
       "      <th></th>\n",
       "    </tr>\n",
       "  </thead>\n",
       "  <tbody>\n",
       "    <tr>\n",
       "      <th>11504798</th>\n",
       "      <td>0.990820</td>\n",
       "      <td>0.009180</td>\n",
       "      <td>0</td>\n",
       "      <td>0.990820</td>\n",
       "    </tr>\n",
       "    <tr>\n",
       "      <th>11504799</th>\n",
       "      <td>0.746457</td>\n",
       "      <td>0.253543</td>\n",
       "      <td>0</td>\n",
       "      <td>0.746457</td>\n",
       "    </tr>\n",
       "    <tr>\n",
       "      <th>11504800</th>\n",
       "      <td>0.682102</td>\n",
       "      <td>0.317898</td>\n",
       "      <td>0</td>\n",
       "      <td>0.682102</td>\n",
       "    </tr>\n",
       "    <tr>\n",
       "      <th>11504801</th>\n",
       "      <td>0.998927</td>\n",
       "      <td>0.001073</td>\n",
       "      <td>0</td>\n",
       "      <td>0.998927</td>\n",
       "    </tr>\n",
       "    <tr>\n",
       "      <th>11504802</th>\n",
       "      <td>0.980362</td>\n",
       "      <td>0.019638</td>\n",
       "      <td>0</td>\n",
       "      <td>0.980362</td>\n",
       "    </tr>\n",
       "    <tr>\n",
       "      <th>...</th>\n",
       "      <td>...</td>\n",
       "      <td>...</td>\n",
       "      <td>...</td>\n",
       "      <td>...</td>\n",
       "    </tr>\n",
       "    <tr>\n",
       "      <th>19174659</th>\n",
       "      <td>0.777067</td>\n",
       "      <td>0.222933</td>\n",
       "      <td>0</td>\n",
       "      <td>0.777067</td>\n",
       "    </tr>\n",
       "    <tr>\n",
       "      <th>19174660</th>\n",
       "      <td>0.999008</td>\n",
       "      <td>0.000992</td>\n",
       "      <td>0</td>\n",
       "      <td>0.999008</td>\n",
       "    </tr>\n",
       "    <tr>\n",
       "      <th>19174661</th>\n",
       "      <td>0.997985</td>\n",
       "      <td>0.002015</td>\n",
       "      <td>0</td>\n",
       "      <td>0.997985</td>\n",
       "    </tr>\n",
       "    <tr>\n",
       "      <th>19174662</th>\n",
       "      <td>0.568842</td>\n",
       "      <td>0.431158</td>\n",
       "      <td>0</td>\n",
       "      <td>0.568842</td>\n",
       "    </tr>\n",
       "    <tr>\n",
       "      <th>19174663</th>\n",
       "      <td>0.998841</td>\n",
       "      <td>0.001159</td>\n",
       "      <td>0</td>\n",
       "      <td>0.998841</td>\n",
       "    </tr>\n",
       "  </tbody>\n",
       "</table>\n",
       "<p>7669866 rows × 4 columns</p>\n",
       "</div>"
      ],
      "text/plain": [
       "                 0         1  label  confidence\n",
       "id                                             \n",
       "11504798  0.990820  0.009180      0    0.990820\n",
       "11504799  0.746457  0.253543      0    0.746457\n",
       "11504800  0.682102  0.317898      0    0.682102\n",
       "11504801  0.998927  0.001073      0    0.998927\n",
       "11504802  0.980362  0.019638      0    0.980362\n",
       "...            ...       ...    ...         ...\n",
       "19174659  0.777067  0.222933      0    0.777067\n",
       "19174660  0.999008  0.000992      0    0.999008\n",
       "19174661  0.997985  0.002015      0    0.997985\n",
       "19174662  0.568842  0.431158      0    0.568842\n",
       "19174663  0.998841  0.001159      0    0.998841\n",
       "\n",
       "[7669866 rows x 4 columns]"
      ]
     },
     "execution_count": 24,
     "metadata": {},
     "output_type": "execute_result"
    }
   ],
   "source": [
    "pseudo_labels"
   ]
  },
  {
   "cell_type": "code",
   "execution_count": 25,
   "id": "5b96c811",
   "metadata": {
    "execution": {
     "iopub.execute_input": "2024-12-08T00:07:20.961932Z",
     "iopub.status.busy": "2024-12-08T00:07:20.961485Z",
     "iopub.status.idle": "2024-12-08T00:07:25.343972Z",
     "shell.execute_reply": "2024-12-08T00:07:25.342829Z"
    },
    "papermill": {
     "duration": 4.393144,
     "end_time": "2024-12-08T00:07:25.346346",
     "exception": false,
     "start_time": "2024-12-08T00:07:20.953202",
     "status": "completed"
    },
    "tags": []
   },
   "outputs": [],
   "source": [
    "confidence_threshold = 0.9\n",
    "confident_pseudo_labels = pseudo_labels[pseudo_labels['confidence'] > confidence_threshold]\n",
    "\n",
    "X_pseudo = X_test_onehot.loc[confident_pseudo_labels.index]\n",
    "y_pseudo = confident_pseudo_labels['label']\n",
    "\n",
    "X_combined = pd.concat([X_train_onehot, X_pseudo], axis = 0)\n",
    "y_combined = pd.concat([y_train, y_pseudo], axis = 0)"
   ]
  },
  {
   "cell_type": "code",
   "execution_count": 26,
   "id": "a7c3db0e",
   "metadata": {
    "execution": {
     "iopub.execute_input": "2024-12-08T00:07:25.362730Z",
     "iopub.status.busy": "2024-12-08T00:07:25.362287Z",
     "iopub.status.idle": "2024-12-08T00:41:24.011908Z",
     "shell.execute_reply": "2024-12-08T00:41:24.010068Z"
    },
    "papermill": {
     "duration": 2038.682669,
     "end_time": "2024-12-08T00:41:24.036298",
     "exception": false,
     "start_time": "2024-12-08T00:07:25.353629",
     "status": "completed"
    },
    "tags": []
   },
   "outputs": [
    {
     "name": "stdout",
     "output_type": "stream",
     "text": [
      "[LightGBM] [Warning] Found whitespace in feature_names, replace with underlines\n",
      "[LightGBM] [Info] Number of positive: 1262767, number of negative: 11278994\n",
      "[LightGBM] [Info] Auto-choosing row-wise multi-threading, the overhead of testing was 0.457321 seconds.\n",
      "You can set `force_row_wise=true` to remove the overhead.\n",
      "And if memory is not enough, you can set `force_col_wise=true`.\n",
      "[LightGBM] [Info] Total Bins 754\n",
      "[LightGBM] [Info] Number of data points in the train set: 12541761, number of used features: 14\n",
      "[LightGBM] [Info] [binary:BoostFromScore]: pavg=0.100685 -> initscore=-2.189637\n",
      "[LightGBM] [Info] Start training from score -2.189637\n"
     ]
    },
    {
     "name": "stderr",
     "output_type": "stream",
     "text": [
      "/opt/conda/lib/python3.10/site-packages/sklearn/linear_model/_logistic.py:458: ConvergenceWarning: lbfgs failed to converge (status=1):\n",
      "STOP: TOTAL NO. of ITERATIONS REACHED LIMIT.\n",
      "\n",
      "Increase the number of iterations (max_iter) or scale the data as shown in:\n",
      "    https://scikit-learn.org/stable/modules/preprocessing.html\n",
      "Please also refer to the documentation for alternative solver options:\n",
      "    https://scikit-learn.org/stable/modules/linear_model.html#logistic-regression\n",
      "  n_iter_i = _check_optimize_result(\n"
     ]
    }
   ],
   "source": [
    "model.fit(X_combined, y_combined)"
   ]
  },
  {
   "cell_type": "code",
   "execution_count": 27,
   "id": "e913ef43",
   "metadata": {
    "execution": {
     "iopub.execute_input": "2024-12-08T00:41:24.066147Z",
     "iopub.status.busy": "2024-12-08T00:41:24.065498Z",
     "iopub.status.idle": "2024-12-08T01:36:28.544578Z",
     "shell.execute_reply": "2024-12-08T01:36:28.542625Z"
    },
    "papermill": {
     "duration": 3304.499408,
     "end_time": "2024-12-08T01:36:28.549203",
     "exception": false,
     "start_time": "2024-12-08T00:41:24.049795",
     "status": "completed"
    },
    "tags": []
   },
   "outputs": [],
   "source": [
    "predict_proba = model.predict_proba(X_test_onehot)"
   ]
  },
  {
   "cell_type": "code",
   "execution_count": 28,
   "id": "f15507d5",
   "metadata": {
    "execution": {
     "iopub.execute_input": "2024-12-08T01:36:28.571184Z",
     "iopub.status.busy": "2024-12-08T01:36:28.570737Z",
     "iopub.status.idle": "2024-12-08T01:36:44.824771Z",
     "shell.execute_reply": "2024-12-08T01:36:44.823427Z"
    },
    "papermill": {
     "duration": 16.266317,
     "end_time": "2024-12-08T01:36:44.827554",
     "exception": false,
     "start_time": "2024-12-08T01:36:28.561237",
     "status": "completed"
    },
    "tags": []
   },
   "outputs": [],
   "source": [
    "answer = pd.DataFrame(predict_proba[:, 0], columns = [\"Response\"]).reset_index()\n",
    "answer.to_csv(\"blending_ftry.csv\", index = False)"
   ]
  }
 ],
 "metadata": {
  "kaggle": {
   "accelerator": "none",
   "dataSources": [
    {
     "databundleVersionId": 8930475,
     "sourceId": 73291,
     "sourceType": "competition"
    }
   ],
   "dockerImageVersionId": 30804,
   "isGpuEnabled": false,
   "isInternetEnabled": true,
   "language": "python",
   "sourceType": "notebook"
  },
  "kernelspec": {
   "display_name": "Python 3",
   "language": "python",
   "name": "python3"
  },
  "language_info": {
   "codemirror_mode": {
    "name": "ipython",
    "version": 3
   },
   "file_extension": ".py",
   "mimetype": "text/x-python",
   "name": "python",
   "nbconvert_exporter": "python",
   "pygments_lexer": "ipython3",
   "version": "3.10.14"
  },
  "papermill": {
   "default_parameters": {},
   "duration": 9388.625705,
   "end_time": "2024-12-08T01:36:47.456743",
   "environment_variables": {},
   "exception": null,
   "input_path": "__notebook__.ipynb",
   "output_path": "__notebook__.ipynb",
   "parameters": {},
   "start_time": "2024-12-07T23:00:18.831038",
   "version": "2.6.0"
  }
 },
 "nbformat": 4,
 "nbformat_minor": 5
}
